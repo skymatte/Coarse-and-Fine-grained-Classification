{
 "cells": [
  {
   "cell_type": "code",
   "execution_count": 1,
   "metadata": {},
   "outputs": [],
   "source": [
    "import os\n",
    "import random\n",
    "import shutil\n"
   ]
  },
  {
   "cell_type": "code",
   "execution_count": 5,
   "metadata": {},
   "outputs": [],
   "source": [
    "di=\"Assignment2 Dataset/\"\n"
   ]
  },
  {
   "cell_type": "code",
   "execution_count": 11,
   "metadata": {},
   "outputs": [],
   "source": [
    "\n",
    "for x in os.listdir(di):\n",
    "    path=os.path.join(di,x)\n",
    "    trainpth=os.path.join(path,\"train\")\n",
    "    testpth=os.path.join(path,\"test\")\n",
    "    valpth=os.path.join(path,\"val\")\n",
    "    j=os.listdir(path)\n",
    "    os.mkdir(trainpth)\n",
    "    os.mkdir(testpth)\n",
    "    os.mkdir(valpth)\n",
    "    random.shuffle(j)\n",
    "    train=j[:int(0.6*len(j))]\n",
    "    val=j[int(0.6*len(j)):int(0.8*len(j))]\n",
    "    test=j[int(0.8*len(j)):]\n",
    "\n",
    "    for fil in train:\n",
    "        shutil.move(os.path.join(path,fil),trainpth)\n",
    "    for fil in test:\n",
    "        shutil.move(os.path.join(path,fil),testpth)\n",
    "    for fil in val:\n",
    "        shutil.move(os.path.join(path,fil),valpth)"
   ]
  },
  {
   "cell_type": "code",
   "execution_count": 13,
   "metadata": {},
   "outputs": [
    {
     "name": "stdout",
     "output_type": "stream",
     "text": [
      "Train\n",
      "Val\n",
      "Train\n",
      "Test\n",
      "Val\n",
      "Val\n",
      "Val\n",
      "Test\n",
      "Test\n",
      "Train\n",
      "Train\n",
      "Test\n",
      "Train\n",
      "Test\n",
      "Train\n",
      "Val\n",
      "Train\n",
      "Test\n",
      "Train\n",
      "Val\n",
      "Train\n",
      "Test\n",
      "Test\n",
      "Val\n",
      "Test\n",
      "Train\n",
      "Test\n",
      "Test\n",
      "Train\n",
      "Val\n",
      "Val\n",
      "Val\n",
      "Test\n",
      "Test\n",
      "Train\n",
      "Train\n"
     ]
    }
   ],
   "source": [
    "trainpth=os.path.join(\"Datas_2/\",\"train\")\n",
    "testpth=os.path.join(\"Datas_2/\",\"test\")\n",
    "valpth=os.path.join(\"Datas_2/\",\"val\")\n",
    "# os.mkdir(trainpth)\n",
    "# os.mkdir(testpth)\n",
    "# os.mkdir(valpth)\n",
    "\n",
    "for x in os.listdir(di):\n",
    "    path=os.path.join(di,x)\n",
    "    xtrain=os.path.join(trainpth,x)\n",
    "    xtest=os.path.join(testpth,x)\n",
    "    xval=os.path.join(valpth,x)\n",
    "    if (not os.path.isdir(xtrain)):\n",
    "        os.mkdir(xtrain)\n",
    "    if (not os.path.isdir(xtest)):\n",
    "        os.mkdir(xtest)\n",
    "    if (not os.path.isdir(xval)):\n",
    "        os.mkdir(xval)\n",
    "    train=os.path.join(path,\"train\")\n",
    "    test=os.path.join(path,\"test\")\n",
    "    val=os.path.join(path,\"val\")\n",
    "    j=os.listdir(path)\n",
    "    if(os.stat(train).st_size!=0):\n",
    "        for fil in os.listdir(train):\n",
    "            shutil.move(os.path.join(train,fil),xtrain)\n",
    "    if(os.stat(test).st_size!=0):\n",
    "        for fil in os.listdir(test):\n",
    "            print(fil)\n",
    "            shutil.move(os.path.join(test,fil),xtest)\n",
    "    if(os.stat(val).st_size!=0):\n",
    "        for fil in os.listdir(val):\n",
    "            shutil.move(os.path.join(val,fil),xval)"
   ]
  },
  {
   "cell_type": "code",
   "execution_count": 22,
   "metadata": {},
   "outputs": [
    {
     "ename": "TypeError",
     "evalue": "'str' object does not support item assignment",
     "output_type": "error",
     "traceback": [
      "\u001b[0;31m---------------------------------------------------------------------------\u001b[0m",
      "\u001b[0;31mTypeError\u001b[0m                                 Traceback (most recent call last)",
      "\u001b[0;32m<ipython-input-22-925e7a1e5604>\u001b[0m in \u001b[0;36m<module>\u001b[0;34m\u001b[0m\n\u001b[0;32m----> 1\u001b[0;31m \u001b[0mrandom\u001b[0m\u001b[0;34m.\u001b[0m\u001b[0mshuffle\u001b[0m\u001b[0;34m(\u001b[0m\u001b[0mx\u001b[0m\u001b[0;34m)\u001b[0m\u001b[0;34m\u001b[0m\u001b[0m\n\u001b[0m",
      "\u001b[0;32m/usr/lib/python3.5/random.py\u001b[0m in \u001b[0;36mshuffle\u001b[0;34m(self, x, random)\u001b[0m\n\u001b[1;32m    270\u001b[0m                 \u001b[0;31m# pick an element in x[:i+1] with which to exchange x[i]\u001b[0m\u001b[0;34m\u001b[0m\u001b[0;34m\u001b[0m\u001b[0m\n\u001b[1;32m    271\u001b[0m                 \u001b[0mj\u001b[0m \u001b[0;34m=\u001b[0m \u001b[0mrandbelow\u001b[0m\u001b[0;34m(\u001b[0m\u001b[0mi\u001b[0m\u001b[0;34m+\u001b[0m\u001b[0;36m1\u001b[0m\u001b[0;34m)\u001b[0m\u001b[0;34m\u001b[0m\u001b[0m\n\u001b[0;32m--> 272\u001b[0;31m                 \u001b[0mx\u001b[0m\u001b[0;34m[\u001b[0m\u001b[0mi\u001b[0m\u001b[0;34m]\u001b[0m\u001b[0;34m,\u001b[0m \u001b[0mx\u001b[0m\u001b[0;34m[\u001b[0m\u001b[0mj\u001b[0m\u001b[0;34m]\u001b[0m \u001b[0;34m=\u001b[0m \u001b[0mx\u001b[0m\u001b[0;34m[\u001b[0m\u001b[0mj\u001b[0m\u001b[0;34m]\u001b[0m\u001b[0;34m,\u001b[0m \u001b[0mx\u001b[0m\u001b[0;34m[\u001b[0m\u001b[0mi\u001b[0m\u001b[0;34m]\u001b[0m\u001b[0;34m\u001b[0m\u001b[0m\n\u001b[0m\u001b[1;32m    273\u001b[0m         \u001b[0;32melse\u001b[0m\u001b[0;34m:\u001b[0m\u001b[0;34m\u001b[0m\u001b[0m\n\u001b[1;32m    274\u001b[0m             \u001b[0m_int\u001b[0m \u001b[0;34m=\u001b[0m \u001b[0mint\u001b[0m\u001b[0;34m\u001b[0m\u001b[0m\n",
      "\u001b[0;31mTypeError\u001b[0m: 'str' object does not support item assignment"
     ]
    }
   ],
   "source": [
    "random.shuffle(x)"
   ]
  },
  {
   "cell_type": "code",
   "execution_count": 11,
   "metadata": {},
   "outputs": [
    {
     "name": "stdout",
     "output_type": "stream",
     "text": [
      "['cars_1', 'flowers_1', 'dogs_1', 'aircrafts_1', 'birds_1']\n"
     ]
    }
   ],
   "source": [
    "print(x)"
   ]
  },
  {
   "cell_type": "code",
   "execution_count": 12,
   "metadata": {},
   "outputs": [
    {
     "ename": "TypeError",
     "evalue": "'NoneType' object is not iterable",
     "output_type": "error",
     "traceback": [
      "\u001b[0;31m---------------------------------------------------------------------------\u001b[0m",
      "\u001b[0;31mTypeError\u001b[0m                                 Traceback (most recent call last)",
      "\u001b[0;32m<ipython-input-12-40964321b081>\u001b[0m in \u001b[0;36m<module>\u001b[0;34m\u001b[0m\n\u001b[0;32m----> 1\u001b[0;31m \u001b[0;32mfor\u001b[0m \u001b[0mc\u001b[0m \u001b[0;32min\u001b[0m \u001b[0my\u001b[0m\u001b[0;34m:\u001b[0m\u001b[0;34m\u001b[0m\u001b[0m\n\u001b[0m\u001b[1;32m      2\u001b[0m     \u001b[0mprint\u001b[0m\u001b[0;34m(\u001b[0m\u001b[0mc\u001b[0m\u001b[0;34m)\u001b[0m\u001b[0;34m\u001b[0m\u001b[0m\n",
      "\u001b[0;31mTypeError\u001b[0m: 'NoneType' object is not iterable"
     ]
    }
   ],
   "source": [
    "for c in y:\n",
    "    print(c)"
   ]
  },
  {
   "cell_type": "code",
   "execution_count": null,
   "metadata": {},
   "outputs": [],
   "source": []
  }
 ],
 "metadata": {
  "kernelspec": {
   "display_name": "Python 3",
   "language": "python",
   "name": "python3"
  },
  "language_info": {
   "codemirror_mode": {
    "name": "ipython",
    "version": 3
   },
   "file_extension": ".py",
   "mimetype": "text/x-python",
   "name": "python",
   "nbconvert_exporter": "python",
   "pygments_lexer": "ipython3",
   "version": "3.5.2"
  }
 },
 "nbformat": 4,
 "nbformat_minor": 2
}
